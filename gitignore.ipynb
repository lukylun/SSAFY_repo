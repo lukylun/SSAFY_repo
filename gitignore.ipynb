{
 "cells": [
  {
   "attachments": {},
   "cell_type": "markdown",
   "metadata": {},
   "source": [
    "# gitignore\n",
    "-  특정 파일 혹은 폴더에 대해 git이 버전 관리를 하지 못하도록 지정하는 것\n",
    "\n",
    "1. 민감한 개인정보가 담긴파일(전화번호, 계좌번호, 비밀번화, api key)\n",
    "2. OS(운영체제)에서 활용되는 파일\n",
    "3. IDE(통합 개발 환경)에서 활용되는 파일\n",
    "4. 개발언어 또는 프레임워크에서 사용되는 파일\n",
    "\n",
    "## 사용방법\n",
    "\n",
    "- 반드시 이름이 .gitignore 인 파일을 생성(파일 맨 앞이 .이면 숨김파일이라는 뜻)\n",
    "- .gitignore 파일은 .git 폴더와 동일한 위치에 생성\n",
    "- 버전관리에서 제외하고 싶은 파일은 반드시 git add 하기 전에 작성할 것(한 번 버전관리의 대상이 되면 이후에 .gitignore에 작성하더라도 무시되지 않음)\n",
    "\n",
    "\n",
    "## 쉽게 작성하는 방법\n",
    "- gitignore 파일의 내용을 쉽게 작성할 수 있도록 도와주는 사이트\n",
    "- [링크](https://gitignore.io)\n",
    "- 자신이 사용하고 있는 프로그래밍 언어, 프레임워크 검색 후 추가\n",
    "- 생성된 내용을 복사해서 .gitignore 파일에 붙여넣기\n",
    "- 절대로 확장자명이 달라서는 안 됨\n",
    "\n",
    "### .gitignore 패턴 규칙\n",
    "\n",
    "1. 아무것도 없는 라인, # 으로 시작하는 라인은 무시.\n",
    "2. 디렉토리는 슬래시(/)를 끝에 사용하는 것으로 표현\n",
    "3. 표준 Glob 패턴을 사용\n",
    "    1. *(asterisk)은 문자가 하나도 없거나 하나 이상을 의미\n",
    "    2. [abc]는 괄호 안에 문자 하나를 의미\n",
    "    3. ? 는 문자 하나를 의미\n",
    "    4. [0-9]는 괄호 안의 0에서 9사이 문자 중 하나를 의미\n",
    "    5. ** 는 디렉토리 내부의 디렉토리까지 지정(중첩, 재귀)\n",
    "        1. (a/**/z) 라고 작성하면 a/z, a/b/z/, a/b/c/z 까지 모두 영향을 끼침\n",
    "4. !로 시작하는 패턴의 파일은 ignore(무시)하지 않음\n",
    "\n",
    "\n"
   ]
  },
  {
   "cell_type": "markdown",
   "metadata": {},
   "source": []
  }
 ],
 "metadata": {
  "kernelspec": {
   "display_name": "Python 3",
   "language": "python",
   "name": "python3"
  },
  "language_info": {
   "name": "python",
   "version": "3.8.6 (tags/v3.8.6:db45529, Sep 23 2020, 15:52:53) [MSC v.1927 64 bit (AMD64)]"
  },
  "orig_nbformat": 4,
  "vscode": {
   "interpreter": {
    "hash": "242a6f91fed8866d1b25b1edef3542af1d2f6e2ad837f192b445f77eeaad93fa"
   }
  }
 },
 "nbformat": 4,
 "nbformat_minor": 2
}
