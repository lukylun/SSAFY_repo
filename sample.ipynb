{
 "cells": [
  {
   "cell_type": "code",
   "execution_count": 1,
   "metadata": {},
   "outputs": [
    {
     "ename": "ModuleNotFoundError",
     "evalue": "No module named 'numpy'",
     "output_type": "error",
     "traceback": [
      "\u001b[1;31m---------------------------------------------------------------------------\u001b[0m",
      "\u001b[1;31mModuleNotFoundError\u001b[0m                       Traceback (most recent call last)",
      "Cell \u001b[1;32mIn[1], line 1\u001b[0m\n\u001b[1;32m----> 1\u001b[0m \u001b[39mimport\u001b[39;00m \u001b[39mnumpy\u001b[39;00m \u001b[39mas\u001b[39;00m \u001b[39mnp\u001b[39;00m\n\u001b[0;32m      3\u001b[0m \u001b[39mfor\u001b[39;00m i \u001b[39min\u001b[39;00m \u001b[39mrange\u001b[39m(\u001b[39m10\u001b[39m):\n\u001b[0;32m      4\u001b[0m     N \u001b[39m=\u001b[39m \u001b[39mint\u001b[39m(\u001b[39minput\u001b[39m())\n",
      "\u001b[1;31mModuleNotFoundError\u001b[0m: No module named 'numpy'"
     ]
    }
   ],
   "source": [
    "import numpy as np\n",
    "\n",
    "for i in range(10):\n",
    "    N = int(input())\n",
    "    n = list(map(int, input().split()))\n",
    "    np_list = np.array(n).reshape(100,100)\n",
    "    column_sum = np_list.sum(axis=1).tolist()\n",
    "    row_sum = np_list.sum(axis=0).tolist()\n",
    "\n",
    "    cross_sum1 = 0\n",
    "    cross_sum2 = 0\n",
    "    for i in range(100):\n",
    "        cross_sum1 += np_list[i,i]\n",
    "        cross_sum2 += np_list[i,99-i]\n",
    "\n",
    "    print(f'#{i+1} {max(max(column_sum), max(row_sum), cross_sum1, cross_sum2)}')"
   ]
  },
  {
   "cell_type": "code",
   "execution_count": 22,
   "metadata": {},
   "outputs": [
    {
     "name": "stdout",
     "output_type": "stream",
     "text": [
      "(0.632993161855452, -2.632993161855452)\n"
     ]
    }
   ],
   "source": [
    "a = 3\n",
    "b = 6\n",
    "c = -5\n",
    "\n",
    "hae_pos = (-b + (b ** 2 - 4 * a * c) ** 0.5) / (2 * a)\n",
    "hae_neg = (-b - (b ** 2 - 4 * a * c) ** 0.5) / (2 * a)\n",
    "print((hae_pos, hae_neg))"
   ]
  },
  {
   "cell_type": "code",
   "execution_count": 32,
   "metadata": {},
   "outputs": [
    {
     "data": {
      "text/plain": [
       "'취업 준비생에게 SW 역량 향상 교육 및 다양한 취업지원 서비스를 제공하여 취업에 성공하도록 돕는 프로그램입니다.'"
      ]
     },
     "execution_count": 32,
     "metadata": {},
     "output_type": "execute_result"
    }
   ],
   "source": [
    "str = input()\n",
    "str_1 = str.replace('<p>', '')\n",
    "str_2 = str_1.replace('</p>', '')\n",
    "str_2"
   ]
  },
  {
   "cell_type": "code",
   "execution_count": 5,
   "metadata": {},
   "outputs": [],
   "source": [
    "import numpy as np"
   ]
  },
  {
   "cell_type": "code",
   "execution_count": 27,
   "metadata": {},
   "outputs": [],
   "source": [
    "str_lst = input('문자열을 입력하세요. : ').split()"
   ]
  },
  {
   "cell_type": "code",
   "execution_count": 28,
   "metadata": {},
   "outputs": [
    {
     "name": "stdout",
     "output_type": "stream",
     "text": [
      "Fail\n"
     ]
    }
   ],
   "source": [
    "for i in range(len(str_lst)-1):\n",
    "    if str_lst[i][-1].upper() == str_lst[i+1][0].upper():\n",
    "        if i == len(str_lst)-2:\n",
    "            print('Pass')\n",
    "            break\n",
    "    else:\n",
    "        print('Fail')\n",
    "        break"
   ]
  },
  {
   "cell_type": "code",
   "execution_count": 34,
   "metadata": {},
   "outputs": [
    {
     "name": "stdout",
     "output_type": "stream",
     "text": [
      "스테이크 50000\n",
      "+ VAT 7500\n",
      "총계 ₩ 57500\n"
     ]
    }
   ],
   "source": [
    "stake_price = 50000\n",
    "VAT = 0.15\n",
    "\n",
    "print(f'스테이크 {stake_price}')\n",
    "print(f'+ VAT {round(stake_price * VAT)}')\n",
    "print(f'총계 ₩ {round(stake_price * VAT) + stake_price}')"
   ]
  },
  {
   "cell_type": "code",
   "execution_count": 41,
   "metadata": {},
   "outputs": [],
   "source": [
    "todo = [(\"Python Homework\", 3), (\"Assay\", 4), (\"Vacation\", 100)]\n",
    "a = input('해야할 일:')\n",
    "b = int(input('남은 일수:'))\n",
    "todo.append((a,b))"
   ]
  },
  {
   "cell_type": "code",
   "execution_count": 42,
   "metadata": {},
   "outputs": [
    {
     "data": {
      "text/plain": [
       "[('Python Homework', 3),\n",
       " ('Assay', 4),\n",
       " ('Vacation', 100),\n",
       " ('Soccer Contest', 10)]"
      ]
     },
     "execution_count": 42,
     "metadata": {},
     "output_type": "execute_result"
    }
   ],
   "source": [
    "todo"
   ]
  },
  {
   "cell_type": "code",
   "execution_count": 7,
   "metadata": {},
   "outputs": [
    {
     "name": "stdout",
     "output_type": "stream",
     "text": [
      "총 14잔 주문\n",
      "['핫초코', '카푸치노', '카라멜마키야또', '에스프레소', '아이스카라멜마키야또', '아이스아메리카노', '아이스라떼', '아메리카노', '라떼마키야또']\n",
      "['아메리카노', '아이스아메리카노', '아이스라떼', '라떼마키야또', '카라멜마키야또', '에스프레소', '핫초코', '아이스카라멜마키야또', '카푸치노']\n"
     ]
    }
   ],
   "source": [
    "orders = '아이스아메리카노,카라멜마키야또,에스프레소,아메리카노,아메리카노,아이스라떼,핫초코,아이스아메리카노,아메리카노,아이스카라멜마키야또,아이스라떼,라떼마키야또,카푸치노,라떼마키야또'\n",
    "ord_lst = list(orders.split(','))\n",
    "total = len(orders.split(','))\n",
    "print(f'총 {total}잔 주문')\n",
    "\n",
    "set_ord = set(ord_lst)\n",
    "\n",
    "list_orders = list(set_ord)\n",
    "\n",
    "print(sorted(list_orders, reverse=True))\n",
    "\n",
    "# for ord in set_ord:\n",
    "#     print('{} : {}잔'.format(ord, ord_lst.count(ord)))\n",
    "\n",
    "coffee_dict = {}\n",
    "for coffee in ord_lst:\n",
    "    coffee_dict[coffee] = ord_lst.count(coffee)\n",
    "\n",
    "# answer = dict(sorted(coffee_dict.items(), reverse=True, key = lambda x: x[1]))\n",
    "# print(answer)\n",
    "answer = sorted(coffee_dict, reverse=True, key = lambda x: coffee_dict[x])\n",
    "print(answer)"
   ]
  },
  {
   "cell_type": "code",
   "execution_count": 14,
   "metadata": {},
   "outputs": [
    {
     "name": "stdout",
     "output_type": "stream",
     "text": [
      "아이스 음료 주문: 5 개\n",
      "{'카푸치노': 1, '아이스라떼': 2, '아이스아메리카노': 2, '아이스카라멜마키야또': 1, '핫초코': 1, '에스프레소': 1, '라떼마키야또': 2, '카라멜마키야또': 1, '아메리카노': 3}\n"
     ]
    }
   ],
   "source": [
    "orders = '아이스아메리카노,카라멜마키야또,에스프레소,아메리카노,아메리카노,아이스라떼,핫초코,아이스아메리카노,아메리카노,아이스카라멜마키야또,아이스라떼,라떼마키야또,카푸치노,라떼마키야또'\n",
    "ord_lst = list(orders.split(','))\n",
    "print('아이스 음료 주문: {} 개'.format(orders.count('아이스'))) # 문자열에서 갯수\n",
    "\n",
    "\n",
    "coffee_dict = {}\n",
    "for coffee in set(ord_lst):\n",
    "    # if coffee.find('아이스') >= 0:\n",
    "    coffee_dict[coffee] = ord_lst.count(coffee)\n",
    "\n",
    "print(coffee_dict)\n",
    "\n",
    "# print(coffee_dict)\n",
    "# list에서 찾기\n",
    "# cnt = 0\n",
    "# for coffee in ord_lst:\n",
    "#     print(coffee.find('아이스'))\n",
    "#     if coffee.find('아이스') >= 0:\n",
    "#         cnt +=1\n",
    "# print(cnt)"
   ]
  },
  {
   "cell_type": "markdown",
   "metadata": {},
   "source": [
    "# 행렬의 곱셈\n",
    "### 문제 설명\n",
    "- 2차원 행렬 arr1과 arr2를 입력받아, arr1에 arr2를 곱한 결과를 반환하는 함수, solution을 완성해주세요."
   ]
  },
  {
   "cell_type": "code",
   "execution_count": null,
   "metadata": {},
   "outputs": [],
   "source": [
    "for a_row in range(len(arr1)): \n",
    "    for b_col in range(len(arr2[0])):\n"
   ]
  },
  {
   "cell_type": "code",
   "execution_count": 66,
   "metadata": {},
   "outputs": [],
   "source": [
    "N = int(input())\n",
    "\n",
    "if N % 4 == 0 and N % 100 != 0:\n",
    "    print(f'{N}년은 윤년입니다.')\n",
    "# elif N == 0:\n",
    "#     print(f'{N}년은 없습니다. 잘못입력하셨습니다.')\n",
    "elif N % 400 == 0:\n",
    "    print(f'{N}년은 윤년입니다.')\n"
   ]
  },
  {
   "cell_type": "code",
   "execution_count": 73,
   "metadata": {},
   "outputs": [],
   "source": [
    "words = [\"round\" , \"dream\", \"magnet\" , \"tweet\" , \"tweek\", \"trick\", \"kiwi\"]\n"
   ]
  },
  {
   "cell_type": "code",
   "execution_count": 74,
   "metadata": {},
   "outputs": [
    {
     "name": "stdout",
     "output_type": "stream",
     "text": [
      "6번째 사람 탈락\n"
     ]
    }
   ],
   "source": [
    "words_list = []\n",
    "for i in range(len(words)):\n",
    "    if words[i] not in words_list:\n",
    "        words_list.append(words[i])\n",
    "        if i != 0:\n",
    "            if words[i-1][-1] != words[i][0]:\n",
    "                print(f'{i+1}번째 사람 탈락')\n",
    "                break     \n",
    "    else:\n",
    "        print(f'{i+1}번째 사람 탈락')\n",
    "        break\n"
   ]
  },
  {
   "cell_type": "code",
   "execution_count": 31,
   "metadata": {},
   "outputs": [
    {
     "name": "stdout",
     "output_type": "stream",
     "text": [
      "67863915\n"
     ]
    }
   ],
   "source": [
    "T = int(input())\n",
    "for t in range(T):\n",
    "    mole = 1\n",
    "    demo = 1\n",
    "    N, M = map(int, input().split())\n",
    "    for i in range(N):\n",
    "        mole *= (M-i)\n",
    "        demo *= (i+1)\n",
    "    print(mole//demo)\n",
    "\n",
    "# 틀렸음 -> 소수점 문제인듯\n",
    "# T = int(input())\n",
    "# for t in range(T):\n",
    "#     cnt = 1\n",
    "#     N, M = map(int, input().split())\n",
    "#     for i in range(N):\n",
    "#         cnt *= ((M-i) / (i+1))\n",
    "#     print(int(cnt))"
   ]
  },
  {
   "cell_type": "code",
   "execution_count": 27,
   "metadata": {},
   "outputs": [],
   "source": [
    "import math\n",
    "T = int(input())\n",
    "\n",
    "for t in range(T):\n",
    "    n,m = map(int, input().split())\n",
    "    cnt = math.factorial(m) // (math.factorial(n) * math.factorial(m-n))\n",
    "    print(cnt)"
   ]
  },
  {
   "cell_type": "code",
   "execution_count": 43,
   "metadata": {},
   "outputs": [
    {
     "name": "stdout",
     "output_type": "stream",
     "text": [
      "5 2 7 0 3 0 0 0\n"
     ]
    }
   ],
   "source": [
    "T = int(input())\n",
    "sort_lst = list(map(int, input().split()))\n",
    "inc_lst = sorted(sort_lst)\n",
    "P = list(range(T))\n",
    "d = [0 for _ in range(T)]\n",
    "cnt = 0\n",
    "\n",
    "for i in P:\n",
    "    if inc_lst[i] == inc_lst[i-1]:\n",
    "        idx = inc_lst[i]\n",
    "        d[sort_lst.index(idx)] = P[i] \n",
    "        cnt += 1\n",
    "    else:\n",
    "        idx = inc_lst[i]\n",
    "        d[sort_lst.index(idx)] = P[i]  \n",
    "        cnt += 1\n",
    "\n",
    "print(' '.join(map(str,d)))\n",
    "\n"
   ]
  },
  {
   "cell_type": "code",
   "execution_count": 134,
   "metadata": {},
   "outputs": [
    {
     "name": "stdout",
     "output_type": "stream",
     "text": [
      "0 1 2 3 4 5 6 7 8 9 "
     ]
    }
   ],
   "source": [
    "n, l = map(int, input().split())\n",
    "\n",
    "# l의 최대 길이는 100\n",
    "for i in range(l, 101):\n",
    "    X = n - (i * (i + 1) / 2)\n",
    "\n",
    "    if X % i == 0:\n",
    "        X = int(X / i)\n",
    "        if X >= -1:\n",
    "            for j in range(1, i + 1):\n",
    "                print(X + j, end=' ')\n",
    "            break\n",
    "\n",
    "else:\n",
    "    print(-1)\n"
   ]
  },
  {
   "cell_type": "code",
   "execution_count": 138,
   "metadata": {},
   "outputs": [
    {
     "data": {
      "text/plain": [
       "528"
      ]
     },
     "execution_count": 138,
     "metadata": {},
     "output_type": "execute_result"
    }
   ],
   "source": [
    "N = int(input())\n",
    "A = list(map(int, input().split()))\n",
    "B = list(map(int, input().split()))\n",
    "\n",
    "A = sorted(A, reverse=True)\n",
    "B = sorted(B)\n",
    "\n",
    "answer = 0\n",
    "for i in range(N):\n",
    "    answer += A[i] * B[i]\n",
    "\n",
    "answer"
   ]
  },
  {
   "cell_type": "code",
   "execution_count": 144,
   "metadata": {},
   "outputs": [
    {
     "name": "stdout",
     "output_type": "stream",
     "text": [
      "[['B', 'W', 'B', 'B', 'B', 'W', 'B', 'W'], ['B', 'W', 'B', 'B', 'B', 'W', 'B', 'W'], ['B', 'W', 'B', 'B', 'B', 'W', 'B', 'W'], ['B', 'W', 'B', 'B', 'B', 'W', 'B', 'W'], ['B', 'W', 'B', 'B', 'B', 'W', 'B', 'W'], ['B', 'W', 'B', 'B', 'B', 'W', 'B', 'W'], ['B', 'W', 'B', 'B', 'B', 'W', 'B', 'W'], ['B', 'W', 'B', 'B', 'B', 'W', 'B', 'W']]\n"
     ]
    }
   ],
   "source": [
    "N, M = map(int, input().split())\n",
    "\n",
    "chess_list = [list(input()) for _ in range(N)]\n",
    "print(chess_list)\n",
    "    "
   ]
  },
  {
   "cell_type": "code",
   "execution_count": 41,
   "metadata": {},
   "outputs": [],
   "source": [
    "A = input().split(',')"
   ]
  },
  {
   "cell_type": "code",
   "execution_count": 42,
   "metadata": {},
   "outputs": [
    {
     "name": "stdout",
     "output_type": "stream",
     "text": [
      "['apple', 'banana', 'apple', 'orange', 'orange']\n"
     ]
    }
   ],
   "source": [
    "temp = []\n",
    "if A == ['']:\n",
    "    print(list())\n",
    "else:\n",
    "    for a in A:\n",
    "        a = a.lower().replace('rotten','')\n",
    "        temp.append(a)\n",
    "    print(temp)"
   ]
  },
  {
   "cell_type": "code",
   "execution_count": 45,
   "metadata": {},
   "outputs": [
    {
     "name": "stdout",
     "output_type": "stream",
     "text": [
      "e\n"
     ]
    }
   ],
   "source": [
    "A = input()\n",
    "if len(A) % 2 == 0:\n",
    "    print(A[(len(A)//2)-1:(len(A)//2)+1])\n",
    "else:\n",
    "    print(A[len(A)//2])"
   ]
  },
  {
   "cell_type": "code",
   "execution_count": 48,
   "metadata": {},
   "outputs": [
    {
     "name": "stdout",
     "output_type": "stream",
     "text": [
      "16\n"
     ]
    }
   ],
   "source": [
    "infos = [{'name': 'kim', 'age': 12}, {'name': 'lee', 'age': 4}]\n",
    "cnt = 0\n",
    "for info in infos:\n",
    "    cnt += info['age']\n",
    "print(cnt)"
   ]
  },
  {
   "cell_type": "code",
   "execution_count": 49,
   "metadata": {},
   "outputs": [
    {
     "data": {
      "text/plain": [
       "{'A': 4, 'O': 4, 'B': 3, 'AB': 2}"
      ]
     },
     "execution_count": 49,
     "metadata": {},
     "output_type": "execute_result"
    }
   ],
   "source": [
    "blood_types = [ 'A','A','O', 'B', 'A', 'O', 'AB','O', 'A', 'B', 'O', 'B', 'AB']\n",
    "blood_dict = {}\n",
    "for blood_type in blood_types:\n",
    "    blood_dict[blood_type] = blood_types.count(blood_type)\n",
    "\n",
    "print(blood_dict)"
   ]
  },
  {
   "cell_type": "code",
   "execution_count": 80,
   "metadata": {},
   "outputs": [
    {
     "name": "stdout",
     "output_type": "stream",
     "text": [
      "소금물의 농도: 9.16%, 소금물의 양: 60.41\n"
     ]
    }
   ],
   "source": [
    "mix_volume = 0\n",
    "mix_percent = 0\n",
    "salt = 0\n",
    "for i in range(5):\n",
    "    A, B = map(float, input('소금물의 농도, 소금물의 양:').split())\n",
    "    C = input('입력종료 원하면 \"Done\" 입력하세요: ')\n",
    "    salt += A / 100 * B\n",
    "    mix_volume += B\n",
    "    mix_percent = salt / mix_volume * 100\n",
    "    \n",
    "\n",
    "    if C == 'Done':\n",
    "        print('소금물의 농도: {:.2f}%, 소금물의 양: {:.2f}'.format(mix_percent, mix_volume))\n",
    "        break\n",
    "\n",
    "\n"
   ]
  },
  {
   "cell_type": "code",
   "execution_count": 71,
   "metadata": {},
   "outputs": [],
   "source": [
    "A, B = map(int, input('입력하세요:').split())"
   ]
  },
  {
   "cell_type": "code",
   "execution_count": 150,
   "metadata": {},
   "outputs": [
    {
     "name": "stdout",
     "output_type": "stream",
     "text": [
      "True\n"
     ]
    }
   ],
   "source": [
    "answer = '123a'\n",
    "for i in range(3):\n",
    "    password = input()\n",
    "    if password == answer:\n",
    "        print(True)\n",
    "        break\n",
    "else:\n",
    "    print(False)"
   ]
  },
  {
   "cell_type": "code",
   "execution_count": 158,
   "metadata": {},
   "outputs": [
    {
     "name": "stdout",
     "output_type": "stream",
     "text": [
      "{'박해피': 5, '이영희': 4, '조민지': 3, '김철수': 3, '김해킹': 2, '한케이': 2, '강디티': 2}\n",
      "['박해피', '이영희', '조민지', '김철수', '김해킹', '한케이', '강디티']\n"
     ]
    }
   ],
   "source": [
    "students = [\n",
    "    '박해피',\n",
    "    '이영희',\n",
    "    '조민지',\n",
    "    '조민지',\n",
    "    '김철수',\n",
    "    '이영희',\n",
    "    '이영희',\n",
    "    '김해킹',\n",
    "    '박해피',\n",
    "    '김철수',\n",
    "    '한케이',\n",
    "    '강디티',\n",
    "    '조민지',\n",
    "    '박해피',\n",
    "    '김철수',\n",
    "    '이영희',\n",
    "    '박해피',\n",
    "    '김해킹',\n",
    "    '박해피',\n",
    "    '한케이',\n",
    "    '강디티',\n",
    "]\n",
    "\n",
    "stu_dict = {}\n",
    "for student in students:\n",
    "    stu_dict[student] = students.count(student)\n",
    "\n",
    "print(stu_dict)\n",
    "# print(sorted(stu_dict.items(), reverse=True, key = lambda x:x[1]))\n",
    "print(sorted(stu_dict, reverse=True, key = lambda x:stu_dict[x]))"
   ]
  },
  {
   "cell_type": "code",
   "execution_count": 165,
   "metadata": {},
   "outputs": [
    {
     "name": "stdout",
     "output_type": "stream",
     "text": [
      "[1, 3, 0, 1]\n"
     ]
    }
   ],
   "source": [
    "# 입력 예시\n",
    "# [1, 1, 3, 3, 0, 1, 1]\n",
    "\n",
    "# 출력 예시\n",
    "# [1, 3, 0, 1]\n",
    "\n",
    "\n",
    "num_list = list(map(int, input().split()))\n",
    "\n",
    "temp = []\n",
    "for idx, num in enumerate(num_list):\n",
    "    if idx > len(num_list) - 2:\n",
    "        break\n",
    "    if idx == 0:\n",
    "        temp.append(num_list[0])\n",
    "    elif num_list[idx] != num_list[idx-1]:\n",
    "        temp.append(num_list[idx])\n",
    "\n",
    "print(temp)\n"
   ]
  },
  {
   "cell_type": "code",
   "execution_count": 175,
   "metadata": {},
   "outputs": [
    {
     "name": "stdout",
     "output_type": "stream",
     "text": [
      "[3, 4]\n"
     ]
    }
   ],
   "source": [
    "N = 5\n",
    "\n",
    "list_1 = [[0] * N for _ in range(N)]\n",
    "\n",
    "now = [2,2]\n",
    "\n",
    "moves = ['D', 'R', 'R']\n",
    "\n",
    "dx = [-1, 1, 0, 0]\n",
    "dy = [0, 0, -1, 1]\n",
    "move_types = ['U', 'D', 'L', 'R']\n",
    "\n",
    "for move in moves:\n",
    "    now[0] += dx[move_types.index(move)]\n",
    "    now[1] += dy[move_types.index(move)]\n",
    "\n",
    "print(now)\n",
    "\n",
    "\n",
    "\n"
   ]
  },
  {
   "cell_type": "code",
   "execution_count": 177,
   "metadata": {},
   "outputs": [
    {
     "name": "stdout",
     "output_type": "stream",
     "text": [
      "ab\n"
     ]
    }
   ],
   "source": [
    "word1 = input()\n",
    "word2 = input()\n",
    "\n",
    "cnt1 = 0 \n",
    "for word in word1:\n",
    "    cnt1 += ord(word)\n",
    "\n",
    "cnt2 = 0 \n",
    "for word in word2:\n",
    "    cnt2 += ord(word)\n",
    "\n",
    "\n",
    "if cnt1 > cnt2:\n",
    "    print(word1)\n",
    "else:\n",
    "    print(word2)"
   ]
  },
  {
   "cell_type": "code",
   "execution_count": 187,
   "metadata": {},
   "outputs": [
    {
     "name": "stdout",
     "output_type": "stream",
     "text": [
      "['염자바', '임온실', '최이썬']\n",
      "{'김싸피': 'solving', '이코딩': 'solving', '오디비': 'solving', '조실습': 'solving', '박장고': 'solving'}\n"
     ]
    }
   ],
   "source": [
    "test_status = {\n",
    "    '김싸피': 'solving',\n",
    "   \t'이코딩': 'solving',\n",
    "   \t'최이썬': 'cheating',\n",
    "   \t'오디비': 'sleeping',\n",
    "   \t'임온실': 'cheating',\n",
    "   \t'조실습': 'solving',\n",
    "   \t'박장고': 'sleeping',\n",
    "   \t'염자바': 'cheating'\n",
    "}\n",
    "\n",
    "temp = []\n",
    "for status in test_status.keys():\n",
    "    if test_status[status] == 'cheating':\n",
    "        temp.append(status)\n",
    "    elif test_status[status] == 'sleeping':\n",
    "        test_status[status] = 'solving'\n",
    "\n",
    "for name in temp:\n",
    "    test_status.pop(name)\n",
    "print(sorted(temp))\n",
    "print(test_status)"
   ]
  },
  {
   "cell_type": "code",
   "execution_count": 188,
   "metadata": {},
   "outputs": [],
   "source": [
    "y = int(input('연도:'))\n",
    "m = int(input('월:'))\n",
    "d = int(input('일:'))\n",
    "\n",
    "if (y % 4 == 0 and y % 100 != 0) or y % 400 == 0:\n",
    "    y = int(input('윤년입니다. 연도:')) "
   ]
  },
  {
   "cell_type": "code",
   "execution_count": 196,
   "metadata": {},
   "outputs": [],
   "source": [
    "def  group_anagrams(n):\n",
    "    temp = []\n",
    "    answer = []\n",
    "    for i in n:\n",
    "        cnt = 0\n",
    "        print(i)\n",
    "        for j in i:\n",
    "            cnt += ord(j)\n",
    "        if cnt not in temp:\n",
    "            temp.append(cnt)\n",
    "            answer.append(i)\n",
    "\n",
    "    return answer"
   ]
  },
  {
   "cell_type": "code",
   "execution_count": 197,
   "metadata": {},
   "outputs": [
    {
     "name": "stdout",
     "output_type": "stream",
     "text": [
      "eat\n",
      "tea\n",
      "tan\n",
      "ate\n",
      "nat\n",
      "bat\n"
     ]
    },
    {
     "data": {
      "text/plain": [
       "['eat', 'tan', 'bat']"
      ]
     },
     "execution_count": 197,
     "metadata": {},
     "output_type": "execute_result"
    }
   ],
   "source": [
    "group_anagrams(['eat','tea','tan','ate','nat','bat'])"
   ]
  },
  {
   "cell_type": "code",
   "execution_count": 28,
   "metadata": {},
   "outputs": [],
   "source": [
    "def fn_d(n):\n",
    "    answer = n\n",
    "    for i in str(n):\n",
    "        answer += int(i)\n",
    "    \n",
    "    return answer\n",
    "\n",
    "def is_selfnumber(n):\n",
    "    temp = []\n",
    "    for i in range(1, n+1):\n",
    "        if fn_d(i) not in temp:\n",
    "            temp.append(fn_d(i))\n",
    "    # print(temp)\n",
    "    selfnumber = []\n",
    "    for j in range(1, max(temp)+1):\n",
    "        if j not in temp:\n",
    "            selfnumber.append(j)\n",
    "\n",
    "    if n in selfnumber:\n",
    "        return True\n",
    "    else:\n",
    "        return False\n",
    "\n",
    "def selfnumber(n):\n",
    "    temp = []\n",
    "    for i in range(1, n+1):\n",
    "        if fn_d(i) not in temp:\n",
    "            temp.append(fn_d(i))\n",
    "    if n not in temp:\n",
    "        return True\n",
    "    else:\n",
    "        return False\n",
    "    \n",
    "    "
   ]
  },
  {
   "cell_type": "code",
   "execution_count": 16,
   "metadata": {},
   "outputs": [
    {
     "name": "stdout",
     "output_type": "stream",
     "text": [
      "4.0% 700g\n"
     ]
    }
   ],
   "source": [
    "N = int(input('소금물의 개수를 입력하시오.: '))\n",
    "\n",
    "salt = 0\n",
    "water = 0 \n",
    "for i in range(N):\n",
    "    a,b = input('소금물의 농도(%)와 소금물의 양(g)을 입력하십시오:').split()\n",
    "    salt += int(a.replace('%','')) * int(b.replace('g','')) / 100\n",
    "    water += int(b.replace('g',''))\n",
    "\n",
    "print('{}% {}g'.format(round(salt/water*100,1), round(water,1)))\n"
   ]
  },
  {
   "cell_type": "code",
   "execution_count": 10,
   "metadata": {},
   "outputs": [],
   "source": [
    "a,b = input('소금물의 농도(%)와 소금물의 양(g)을 입력하십시오:').split()"
   ]
  },
  {
   "cell_type": "code",
   "execution_count": null,
   "metadata": {},
   "outputs": [],
   "source": [
    "''"
   ]
  },
  {
   "cell_type": "code",
   "execution_count": null,
   "metadata": {},
   "outputs": [],
   "source": [
    "n = "
   ]
  },
  {
   "cell_type": "code",
   "execution_count": null,
   "metadata": {},
   "outputs": [],
   "source": []
  },
  {
   "cell_type": "code",
   "execution_count": null,
   "metadata": {},
   "outputs": [],
   "source": []
  },
  {
   "cell_type": "code",
   "execution_count": null,
   "metadata": {},
   "outputs": [],
   "source": []
  },
  {
   "cell_type": "code",
   "execution_count": null,
   "metadata": {},
   "outputs": [],
   "source": []
  },
  {
   "cell_type": "code",
   "execution_count": null,
   "metadata": {},
   "outputs": [],
   "source": []
  },
  {
   "cell_type": "code",
   "execution_count": null,
   "metadata": {},
   "outputs": [],
   "source": []
  }
 ],
 "metadata": {
  "kernelspec": {
   "display_name": "Python 3",
   "language": "python",
   "name": "python3"
  },
  "language_info": {
   "codemirror_mode": {
    "name": "ipython",
    "version": 3
   },
   "file_extension": ".py",
   "mimetype": "text/x-python",
   "name": "python",
   "nbconvert_exporter": "python",
   "pygments_lexer": "ipython3",
   "version": "3.9.12"
  },
  "orig_nbformat": 4,
  "vscode": {
   "interpreter": {
    "hash": "c4b9ebf4ca459396e2ad1150752490c26670c1a037c08cad955a4425787bec2e"
   }
  }
 },
 "nbformat": 4,
 "nbformat_minor": 2
}
