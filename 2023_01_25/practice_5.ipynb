{
 "cells": [
  {
   "cell_type": "code",
   "execution_count": 3,
   "metadata": {},
   "outputs": [],
   "source": [
    "def making_card_list() -> list:\n",
    "\tcard_list = []\n",
    "\n",
    "\tfor shape in [\"spade\", \"heart\", \"diamond\", \"clover\"]:\n",
    "\n",
    "\t\tfor number in [\"A\", 2, 3, 4, 5, 6, 7, 8, 9, 10, \"J\", \"Q\", \"K\"]:\n",
    "\n",
    "\t\t\tcard_list.append((shape, number))\n",
    "\n",
    "\treturn card_list\n",
    "\n",
    "\n",
    "trump_card_list = making_card_list()"
   ]
  },
  {
   "cell_type": "code",
   "execution_count": 4,
   "metadata": {},
   "outputs": [
    {
     "data": {
      "text/plain": [
       "(('heart', 9), ('spade', 4))"
      ]
     },
     "execution_count": 4,
     "metadata": {},
     "output_type": "execute_result"
    }
   ],
   "source": [
    "import random\n",
    "\n",
    "a, b = random.sample(trump_card_list, 2)\n",
    "print(a,b)\n",
    "a_cnt = 0\n",
    "b_cnt = 0\n",
    "while True:\n",
    "    if a[1] > b[1]:\n",
    "        a_cnt += 1\n",
    "    elif a[1] < b[1]:\n",
    "        b_cnt += 1\n",
    "    elif a[1] == b[1]:\n",
    "        \n"
   ]
  },
  {
   "cell_type": "code",
   "execution_count": 1,
   "metadata": {},
   "outputs": [
    {
     "name": "stdout",
     "output_type": "stream",
     "text": [
      "5\n",
      "-1\n",
      "6\n",
      "0.6666666666666666\n",
      "0으로 나눌 수 없습니다.\n"
     ]
    }
   ],
   "source": [
    "import calc\n",
    "\n",
    "print(calc.add(2, 3)) # 5\n",
    "print(calc.sub(2, 3)) # -1\n",
    "print(calc.mul(2, 3)) # 6\n",
    "print(calc.div(2, 3)) # 0.6666666666666666\n",
    "print(calc.div(2, 0)) # 0으로 나눌 수 없습니다."
   ]
  },
  {
   "cell_type": "code",
   "execution_count": 13,
   "metadata": {},
   "outputs": [
    {
     "data": {
      "text/plain": [
       "'I never dreamed about success, i worked for it.'"
      ]
     },
     "execution_count": 13,
     "metadata": {},
     "output_type": "execute_result"
    }
   ],
   "source": [
    "# 입력 예시\n",
    "s = '@#~I NeVEr DrEamEd AbouT SuCCeSs, i woRkEd foR iT.!>!'\n",
    "\n",
    "# 출력 예시\n",
    "# 'I never dreamed about success, i worked for it.'\n",
    "\n",
    "s = s.replace('@#~', '').replace('!>!','')\n",
    "s = s.lower()\n",
    "\n",
    "s = s.capitalize()\n",
    "s"
   ]
  },
  {
   "cell_type": "code",
   "execution_count": 14,
   "metadata": {},
   "outputs": [
    {
     "data": {
      "text/plain": [
       "25"
      ]
     },
     "execution_count": 14,
     "metadata": {},
     "output_type": "execute_result"
    }
   ],
   "source": [
    "num_list = [4, 4, 7, 8, 10, 4]\n",
    "# sum_of_repeat_number(num_list)\n",
    "\n",
    "# 출력 예시 \n",
    "#  25\n",
    "\n",
    "cnt = 0\n",
    "\n",
    "for num in num_list:\n",
    "    if num_list.count(num) == 1:\n",
    "        cnt += num\n",
    "\n",
    "cnt"
   ]
  },
  {
   "cell_type": "code",
   "execution_count": 21,
   "metadata": {},
   "outputs": [
    {
     "name": "stdout",
     "output_type": "stream",
     "text": [
      "['illegal', 'illogical', 'imbalance', 'immoral', 'impatient', 'imperfect', 'impossible', 'improper', 'irregular', 'irrelevant', 'irresponsible']\n"
     ]
    }
   ],
   "source": [
    "words_dict = {'proper' : '적절한',\n",
    "'possible' : '가능한',\n",
    "'moral' : '도덕적인',\n",
    "'patient' : '참을성 있는',\n",
    "'balance' : '균형',\n",
    "'perfect' : '완벽한',\n",
    "'logical' : '논리적인',\n",
    "'legal' : '합법적인',\n",
    "'relevant' : '관련 있는',\n",
    "'responsible' : '책임감 있는',\n",
    "'regular' : '규칙적인'}\n",
    "\n",
    "re_words = []\n",
    "for word in words_dict.keys():\n",
    "    if word[0] == 'l':\n",
    "        re_words.append('il' + word)\n",
    "    elif word[0] == 'r':\n",
    "        re_words.append('ir' + word)\n",
    "    else:\n",
    "        re_words.append('im' + word)\n",
    "\n",
    "print(sorted(re_words))\n"
   ]
  },
  {
   "cell_type": "code",
   "execution_count": 4,
   "metadata": {},
   "outputs": [
    {
     "data": {
      "text/plain": [
       "'970103*******'"
      ]
     },
     "execution_count": 4,
     "metadata": {},
     "output_type": "execute_result"
    }
   ],
   "source": [
    "num = '970103-1234567'\n",
    "\n",
    "# def de_identify(num):\n",
    "    \n",
    "    num = num[:6]\n",
    "    num = num + '*' * 7\n",
    "    num"
   ]
  },
  {
   "cell_type": "code",
   "execution_count": 17,
   "metadata": {},
   "outputs": [
    {
     "name": "stdout",
     "output_type": "stream",
     "text": [
      "고구마\n"
     ]
    }
   ],
   "source": [
    "grain_lst = [('고구마',5300), ('감자',4800), ('옥수수',4500),('토란',5300)]\n",
    "\n",
    "max_grain = 0 \n",
    "for grain in grain_lst:\n",
    "    if grain[1] > max_grain:\n",
    "        max_grain = grain[1]\n",
    "        grain_name = grain[0]\n",
    "\n",
    "print(grain_name)"
   ]
  },
  {
   "cell_type": "code",
   "execution_count": null,
   "metadata": {},
   "outputs": [],
   "source": []
  }
 ],
 "metadata": {
  "kernelspec": {
   "display_name": "Python 3",
   "language": "python",
   "name": "python3"
  },
  "language_info": {
   "codemirror_mode": {
    "name": "ipython",
    "version": 3
   },
   "file_extension": ".py",
   "mimetype": "text/x-python",
   "name": "python",
   "nbconvert_exporter": "python",
   "pygments_lexer": "ipython3",
   "version": "3.9.12"
  },
  "orig_nbformat": 4,
  "vscode": {
   "interpreter": {
    "hash": "c4b9ebf4ca459396e2ad1150752490c26670c1a037c08cad955a4425787bec2e"
   }
  }
 },
 "nbformat": 4,
 "nbformat_minor": 2
}
