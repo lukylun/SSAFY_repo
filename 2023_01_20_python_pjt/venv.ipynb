{
 "cells": [
  {
   "attachments": {},
   "cell_type": "markdown",
   "metadata": {},
   "source": [
    "## 가상환경\n",
    "\n",
    "- 프로젝트마다 다른 실행 환경을 위해서 전역 설정과 독립적인 실행 환경을 생성\n",
    "\n",
    "## 주의해야 할 점: 꼭 작업 경로를 확인해야함.\n",
    "\n",
    "### 가상환경 생성 방법\n",
    "\n",
    "```\n",
    "python -m venv <폴더이름>\n",
    "```\n",
    "\n",
    "### 가상환경 활성화 방법(bash 기준)\n",
    "```\n",
    "source <폴더이름>/Scripts/activate\n",
    "```\n",
    "\n",
    "### 가상환경에서 사용했던 패키지 목록 추출 방법(일반적으로 requirements.txt 파일이름으로 씀)\n",
    "```\n",
    "pip freeze > <파일이름> \n",
    "```\n",
    "\n",
    "### 다른 가상환경에서 패키지 목록 사용해서 설치하기\n",
    "```\n",
    "pip install -r <파일이름>\n",
    "```\n",
    "\n",
    "\n"
   ]
  }
 ],
 "metadata": {
  "kernelspec": {
   "display_name": "Python 3",
   "language": "python",
   "name": "python3"
  },
  "language_info": {
   "name": "python",
   "version": "3.9.12 (tags/v3.9.12:b28265d, Mar 23 2022, 23:52:46) [MSC v.1929 64 bit (AMD64)]"
  },
  "orig_nbformat": 4,
  "vscode": {
   "interpreter": {
    "hash": "c4b9ebf4ca459396e2ad1150752490c26670c1a037c08cad955a4425787bec2e"
   }
  }
 },
 "nbformat": 4,
 "nbformat_minor": 2
}
