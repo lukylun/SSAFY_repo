{
 "cells": [
  {
   "attachments": {},
   "cell_type": "markdown",
   "metadata": {},
   "source": [
    "## return vs print\n",
    "\n",
    "- 주피터 노트북은 REPL(read-eval-pring-loop) 환경, 사용자가 편하게 코드를 작성하고 리뷰할 수 있도록 구성\n",
    "- 주의해야할 특징은, 마지막으로 작성된 코드의 리턴값을 출력하여 보여줌\n",
    "- 따라서, 리턴을 하게 되면 출력을 해준다라는 착각을 하게 됨\n"
   ]
  },
  {
   "cell_type": "code",
   "execution_count": 1,
   "metadata": {},
   "outputs": [],
   "source": [
    "def my_function():\n",
    "    return \"return!!\""
   ]
  },
  {
   "cell_type": "code",
   "execution_count": 2,
   "metadata": {},
   "outputs": [
    {
     "data": {
      "text/plain": [
       "'return!!'"
      ]
     },
     "execution_count": 2,
     "metadata": {},
     "output_type": "execute_result"
    }
   ],
   "source": [
    "my_function()"
   ]
  },
  {
   "attachments": {},
   "cell_type": "markdown",
   "metadata": {},
   "source": [
    "### Python에서 결과를 콘솔이나 터미널에 출력하려면 출력함수를 사용해야 함."
   ]
  },
  {
   "cell_type": "code",
   "execution_count": 1,
   "metadata": {},
   "outputs": [
    {
     "name": "stdout",
     "output_type": "stream",
     "text": [
      "6789\n",
      "6\n"
     ]
    },
    {
     "ename": "TypeError",
     "evalue": "unsupported operand type(s) for +=: 'int' and 'str'",
     "output_type": "error",
     "traceback": [
      "\u001b[1;31m---------------------------------------------------------------------------\u001b[0m",
      "\u001b[1;31mTypeError\u001b[0m                                 Traceback (most recent call last)",
      "Cell \u001b[1;32mIn[1], line 7\u001b[0m\n\u001b[0;32m      5\u001b[0m \u001b[39mfor\u001b[39;00m i \u001b[39min\u001b[39;00m \u001b[39mstr\u001b[39m(N):\n\u001b[0;32m      6\u001b[0m     \u001b[39mprint\u001b[39m(i)\n\u001b[1;32m----> 7\u001b[0m     ans \u001b[39m+\u001b[39m\u001b[39m=\u001b[39m i\n\u001b[0;32m      9\u001b[0m \u001b[39mprint\u001b[39m(ans)\n",
      "\u001b[1;31mTypeError\u001b[0m: unsupported operand type(s) for +=: 'int' and 'str'"
     ]
    }
   ],
   "source": [
    "N = str(input())\n",
    "\n",
    "print(N)\n",
    "ans = 0\n",
    "for i in str(N):\n",
    "    print(i)\n",
    "    ans += i\n",
    "\n",
    "print(ans)"
   ]
  },
  {
   "cell_type": "code",
   "execution_count": 3,
   "metadata": {},
   "outputs": [
    {
     "name": "stdout",
     "output_type": "stream",
     "text": [
      "23\n"
     ]
    }
   ],
   "source": [
    "n = list(map(int, input().split()))\n",
    "\n",
    "ans = abs(n[0] - n[1])\n",
    "print(ans)"
   ]
  },
  {
   "cell_type": "code",
   "execution_count": null,
   "metadata": {},
   "outputs": [],
   "source": [
    "N = int(input())\n",
    "n = list(map(int, input().split()))\n",
    "print(n)\n"
   ]
  },
  {
   "cell_type": "code",
   "execution_count": 35,
   "metadata": {},
   "outputs": [
    {
     "name": "stdout",
     "output_type": "stream",
     "text": [
      "1574\n",
      "1316\n"
     ]
    },
    {
     "data": {
      "text/plain": [
       "1712"
      ]
     },
     "execution_count": 35,
     "metadata": {},
     "output_type": "execute_result"
    }
   ],
   "source": [
    "import numpy as np\n",
    "\n",
    "for i in range(10):\n",
    "    N = int(input())\n",
    "    n = list(map(int, input().split()))\n",
    "    np_list = np.array(n).reshape(100,100)\n",
    "    column_sum = np_list.sum(axis=1).tolist()\n",
    "    row_sum = np_list.sum(axis=0).tolist()\n",
    "\n",
    "    cross_sum1 = 0\n",
    "    cross_sum2 = 0\n",
    "    for i in range(100):\n",
    "        cross_sum1 += np_list[i,i]\n",
    "        cross_sum2 += np_list[i,99-i]\n",
    "\n",
    "    print(f'#{i+1} {max(max(column_sum), max(row_sum), cross_sum1, cross_sum2)}')"
   ]
  },
  {
   "cell_type": "code",
   "execution_count": 38,
   "metadata": {},
   "outputs": [
    {
     "ename": "SyntaxError",
     "evalue": "cannot assign to f-string expression (2963156275.py, line 6)",
     "output_type": "error",
     "traceback": [
      "\u001b[1;36m  Cell \u001b[1;32mIn[38], line 6\u001b[1;36m\u001b[0m\n\u001b[1;33m    (f'n_{j}') = n[idx:idx+10]\u001b[0m\n\u001b[1;37m    ^\u001b[0m\n\u001b[1;31mSyntaxError\u001b[0m\u001b[1;31m:\u001b[0m cannot assign to f-string expression\n"
     ]
    }
   ],
   "source": [
    "for i in range(10):\n",
    "    N = int(input())\n",
    "    n = list(map(int, input().split()))\n",
    "    for j in range(100):\n",
    "        idx = 0\n",
    "        (f'n_{j}') = n[idx:idx+10]\n",
    "        idx += 10\n",
    "        print(f'n_{j}')"
   ]
  },
  {
   "cell_type": "code",
   "execution_count": 36,
   "metadata": {},
   "outputs": [
    {
     "data": {
      "text/plain": [
       "[1, 2, 3]"
      ]
     },
     "execution_count": 36,
     "metadata": {},
     "output_type": "execute_result"
    }
   ],
   "source": [
    "N = int(input())\n",
    "\n",
    "\n",
    "for i in range(N):\n",
    "\tnumber = list(map(int, input().split()))\n",
    "\tA = list(map(int, input().split()))\n",
    "\tB = list(map(int, input().split()))\n",
    "\ttemp = []\n",
    "\ttotal = 0\n",
    "\tfor j in range(abs(number[0]-number[1])+1):\n",
    "\t\tfor k in range(min(number[0], number[1])): \n",
    "\t\t\ttotal += A[k] + B[k]\n",
    "\t\ttemp.append(total)\n",
    "\t\ttotal = 0\n",
    "\tprint(max(temp))"
   ]
  },
  {
   "cell_type": "code",
   "execution_count": null,
   "metadata": {},
   "outputs": [],
   "source": [
    "N = int(input())\n",
    "check_list = list(range(10))\n",
    "\n",
    "for i in range(N):\n",
    "\tn = list(map(int, input().split()))\n",
    "\ttemp = []\n",
    "\tfor j in range(10):\n",
    "\t\ttemp.append(n.count(j))\n",
    "\tif max(temp) > 9:\n",
    "\t\tprint(0)\n",
    "\telse:\n",
    "\t\tprint(1)\n",
    "            "
   ]
  },
  {
   "cell_type": "code",
   "execution_count": 126,
   "metadata": {},
   "outputs": [
    {
     "name": "stdout",
     "output_type": "stream",
     "text": [
      "#1 1\n",
      "#2 0\n"
     ]
    }
   ],
   "source": [
    "N = int(input())\n",
    "check_list = list(range(1,10))\n",
    "\n",
    "for i in range(N):\n",
    "  n = list(map(int, input().split()))\n",
    "  temp_1 = []\n",
    "  for j in range(9):\n",
    "    temp_1.append(n[9*j:9*(j+1)])\n",
    "  \n",
    "  ans_1 = []\n",
    "  for k in range(len(temp_1)):  \n",
    "    tmp_1 = list(set(temp_1[k]))\n",
    "    ans_1.append(len(tmp_1))\n",
    "  if ans_1.count(9) != 9:\n",
    "    print(f'#{i+1} 0')\n",
    "    break\n",
    "  \n",
    "  temp_2 = []\n",
    "  for l in range(9):\n",
    "    temp_2.append([n[l], n[l+9],n[l+18],n[l+27],n[l+36],n[l+45], n[l+54],n[l+63], n[l+72]])\n",
    "  ans_2 = []\n",
    "  for m in range(len(temp_2)):\n",
    "    tmp_2= list(set(temp_2[m]))\n",
    "    ans_2.append(len(tmp_2))\n",
    "  if ans_2.count(9) != 9:\n",
    "    print(f'#{i+1} 0')\n",
    "    break\n",
    "\n",
    "  print(f'#{i+1} 1')\n",
    "  # if ans_1.count(9) == 9 and ans_2.count(9) == 9:\n",
    "  #   print(f'#{i+1} 1')\n",
    "  # else:\n",
    "  #   print(f'#{i+1} 0')\n",
    "  \n",
    "\n",
    "\n",
    "\n",
    "\n"
   ]
  },
  {
   "cell_type": "code",
   "execution_count": 82,
   "metadata": {},
   "outputs": [
    {
     "data": {
      "text/plain": [
       "[[2, 3], [4, 5]]"
      ]
     },
     "execution_count": 82,
     "metadata": {},
     "output_type": "execute_result"
    }
   ],
   "source": [
    "N = int(input())\n",
    "\n",
    "for i in range(N):\n",
    "    sudoku_case = []\n",
    "    for _ in range(9):\n",
    "        sudoku_case.append(list(map(int, input().split())))\n",
    "\t\n",
    "    answer = 1\n",
    "    square = [[[] for _ in range(3)] for _ in range(3)]\n",
    "    for j in range(9):\n",
    "        row = []\n",
    "        column = []\n",
    "        for j in range(9):\n",
    "            if (sudoku_case[i][j] in row) or (sudoku_case[i][j] in column) or (sudoku_case[i][j] in square[i//3][j//3]):\n",
    "                answer = 0\n",
    "                break\n",
    "            row.append(sudoku_case[i][j])\n",
    "            column.append(sudoku_case[i][j])\n",
    "            square[i//3][j//3].append(sudoku_case[i][j])\n",
    "        if not answer:\n",
    "            break\n",
    "    print(f'#{i+1} {answer}')\n",
    "            "
   ]
  },
  {
   "cell_type": "code",
   "execution_count": 122,
   "metadata": {},
   "outputs": [
    {
     "name": "stdout",
     "output_type": "stream",
     "text": [
      "[4, 5, 7, 1, 6, 3, 8, 2, 9, 6, 3, 9, 8, 2, 7, 5, 4, 1, 7, 9, 3, 4, 8, 5, 1, 6, 2, 1, 8, 2, 5, 4, 9, 6, 3, 7, 8, 6, 1, 7, 9, 2, 3, 5, 4, 5, 2, 4, 6, 3, 1, 7, 9, 8, 3, 7, 6, 9, 1, 4, 2, 8, 5, 2, 4, 5, 3, 7, 8, 9, 1, 6, 9, 1, 8, 2, 5, 6, 4, 7, 3]\n"
     ]
    }
   ],
   "source": [
    "N = int(input())\n",
    "\n",
    "for i in range(1, N+1):\n",
    "    case = [[0]*9 for _ in range(9)]\n",
    "    for j in range(9):\n",
    "        case[j] = list(map(int, input().split()))\n",
    "\n",
    "print(case[0])\n"
   ]
  },
  {
   "cell_type": "code",
   "execution_count": 141,
   "metadata": {},
   "outputs": [
    {
     "name": "stdout",
     "output_type": "stream",
     "text": [
      "#1 2015/1/1\n",
      "#2 -1\n",
      "#3 -1\n"
     ]
    }
   ],
   "source": [
    "N = int(input())\n",
    "check_list = [1,3,5,7,8,10,12]\n",
    "for i in range(N):\n",
    "    n = int(input())\n",
    "    if int(n[4:6]) > 12 or int(n[4:6]) < 1:\n",
    "        print(f'#{i+1} -1')\n",
    "    elif int(n[4:6]) == 2:\n",
    "        if int(n[6:8]) > 29 or int(n[6:8]) == 0:\n",
    "            print(f'#{i+1} -1')\n",
    "        else:\n",
    "            print(f'#{i+1} {n[0:4]}/{n[4:6]}/{n[6:8]}')\n",
    "            break\n",
    "    elif int(n[4:6]) not in check_list:\n",
    "        if int(n[6:8]) > 30 or int(n[6:8]) == 0:\n",
    "            print(f'#{i+1} -1')\n",
    "        else:\n",
    "            print(f'#{i+1} {n[0:4]}/{n[4:6]}/{n[6:8]}')\n",
    "            break\n",
    "    elif int(n[4:6]) in check_list:\n",
    "        if int(n[6:8]) > 31 or int(n[6:8]) == 0:\n",
    "            print(f'#{i+1} -1')\n",
    "        else:\n",
    "            print(f'#{i+1} {n[0:4]}/{n[4:6]}/{n[6:8]}')\n",
    "            break"
   ]
  },
  {
   "cell_type": "code",
   "execution_count": 142,
   "metadata": {},
   "outputs": [
    {
     "ename": "TypeError",
     "evalue": "'int' object is not subscriptable",
     "output_type": "error",
     "traceback": [
      "\u001b[1;31m---------------------------------------------------------------------------\u001b[0m",
      "\u001b[1;31mTypeError\u001b[0m                                 Traceback (most recent call last)",
      "Cell \u001b[1;32mIn[142], line 5\u001b[0m\n\u001b[0;32m      3\u001b[0m \u001b[39mfor\u001b[39;00m i \u001b[39min\u001b[39;00m \u001b[39mrange\u001b[39m(N):\n\u001b[0;32m      4\u001b[0m     n \u001b[39m=\u001b[39m \u001b[39mint\u001b[39m(\u001b[39minput\u001b[39m())\n\u001b[1;32m----> 5\u001b[0m     \u001b[39mif\u001b[39;00m \u001b[39mint\u001b[39m(n[\u001b[39m4\u001b[39;49m:\u001b[39m6\u001b[39;49m]) \u001b[39min\u001b[39;00m check_list:\n\u001b[0;32m      6\u001b[0m         \u001b[39mif\u001b[39;00m \u001b[39m0\u001b[39m \u001b[39m<\u001b[39m \u001b[39mint\u001b[39m(n[\u001b[39m6\u001b[39m:\u001b[39m8\u001b[39m]) \u001b[39m<\u001b[39m \u001b[39m32\u001b[39m:\n\u001b[0;32m      7\u001b[0m             \u001b[39mprint\u001b[39m(\u001b[39mf\u001b[39m\u001b[39m'\u001b[39m\u001b[39m#\u001b[39m\u001b[39m{\u001b[39;00mi\u001b[39m+\u001b[39m\u001b[39m1\u001b[39m\u001b[39m}\u001b[39;00m\u001b[39m \u001b[39m\u001b[39m{\u001b[39;00mn[\u001b[39m0\u001b[39m:\u001b[39m4\u001b[39m]\u001b[39m}\u001b[39;00m\u001b[39m/\u001b[39m\u001b[39m{\u001b[39;00mn[\u001b[39m4\u001b[39m:\u001b[39m6\u001b[39m]\u001b[39m}\u001b[39;00m\u001b[39m/\u001b[39m\u001b[39m{\u001b[39;00mn[\u001b[39m6\u001b[39m:\u001b[39m8\u001b[39m]\u001b[39m}\u001b[39;00m\u001b[39m'\u001b[39m)\n",
      "\u001b[1;31mTypeError\u001b[0m: 'int' object is not subscriptable"
     ]
    }
   ],
   "source": [
    "N = int(input())\n",
    "check_list = [1,3,5,7,8,10,12]\n",
    "for i in range(N):\n",
    "    n = int(input())\n",
    "    a = int(n[4:6])\n",
    "    b = int(n[6:8])\n",
    "    if a in check_list:\n",
    "        if 0 < b < 32:\n",
    "            print(f'#{i+1} {n[0:4]}/{a}/{b}')\n",
    "            break\n",
    "        else:\n",
    "            print(f'#{i+1} -1')\n",
    "            break\n",
    "    elif (a not in check_list) and (a != 2):\n",
    "        if 0 < b < 31:\n",
    "            print(f'#{i+1} {n[0:4]}/{a}/{b}')\n",
    "            break\n",
    "        else:\n",
    "            print(f'#{i+1} -1')\n",
    "            break\n",
    "    elif  a == 2:\n",
    "        if 0 < b < 29:\n",
    "            print(f'#{i+1} {n[0:4]}/{a}/{b}')\n",
    "            break\n",
    "        else:\n",
    "            print(f'#{i+1} -1')\n",
    "            break\n",
    "    else:\n",
    "        print(f'#{i+1} -1')"
   ]
  },
  {
   "cell_type": "code",
   "execution_count": 144,
   "metadata": {},
   "outputs": [
    {
     "data": {
      "text/plain": [
       "'INT'"
      ]
     },
     "execution_count": 144,
     "metadata": {},
     "output_type": "execute_result"
    }
   ],
   "source": [
    "a= 'int'\n",
    "a.upper()"
   ]
  },
  {
   "cell_type": "code",
   "execution_count": 145,
   "metadata": {},
   "outputs": [
    {
     "ename": "TypeError",
     "evalue": "'str' object does not support item assignment",
     "output_type": "error",
     "traceback": [
      "\u001b[1;31m---------------------------------------------------------------------------\u001b[0m",
      "\u001b[1;31mTypeError\u001b[0m                                 Traceback (most recent call last)",
      "Cell \u001b[1;32mIn[145], line 3\u001b[0m\n\u001b[0;32m      1\u001b[0m \u001b[39mfor\u001b[39;00m i \u001b[39min\u001b[39;00m \u001b[39mrange\u001b[39m(\u001b[39m5\u001b[39m):\n\u001b[0;32m      2\u001b[0m     a \u001b[39m=\u001b[39m \u001b[39m'\u001b[39m\u001b[39m+\u001b[39m\u001b[39m'\u001b[39m \u001b[39m*\u001b[39m \u001b[39m5\u001b[39m\n\u001b[1;32m----> 3\u001b[0m     a[i] \u001b[39m=\u001b[39m \u001b[39m'\u001b[39m\u001b[39m#\u001b[39m\u001b[39m'\u001b[39m\n\u001b[0;32m      4\u001b[0m     \u001b[39mprint\u001b[39m(a)\n",
      "\u001b[1;31mTypeError\u001b[0m: 'str' object does not support item assignment"
     ]
    }
   ],
   "source": [
    "for i in range(5):\n",
    "    "
   ]
  },
  {
   "cell_type": "code",
   "execution_count": null,
   "metadata": {},
   "outputs": [],
   "source": [
    "for i in range(5) for j in range(5) if i==j\n",
    "        if i== j :\n",
    "            print('#', end='')\n",
    "        else:\n",
    "            print('+', end='')\n",
    "    print()"
   ]
  },
  {
   "cell_type": "code",
   "execution_count": 18,
   "metadata": {},
   "outputs": [
    {
     "name": "stdout",
     "output_type": "stream",
     "text": [
      "10946\n"
     ]
    }
   ],
   "source": [
    "x = int(input())\n",
    "d = [0] * (x+1)\n",
    "\n",
    "def fibo(x):\n",
    "    if x==1 or x==2:\n",
    "        return 1\n",
    "    if d[x] ==0:\n",
    "        d[x] = fibo(x-1) + fibo(x-2)\n",
    "    return d[x]\n",
    "\n",
    "print(str(fibo(x)))"
   ]
  },
  {
   "cell_type": "code",
   "execution_count": 154,
   "metadata": {},
   "outputs": [
    {
     "ename": "ValueError",
     "evalue": "invalid literal for int() with base 10: ''",
     "output_type": "error",
     "traceback": [
      "\u001b[1;31m---------------------------------------------------------------------------\u001b[0m",
      "\u001b[1;31mValueError\u001b[0m                                Traceback (most recent call last)",
      "Cell \u001b[1;32mIn[154], line 1\u001b[0m\n\u001b[1;32m----> 1\u001b[0m n \u001b[39m=\u001b[39m \u001b[39mint\u001b[39;49m(\u001b[39minput\u001b[39;49m())\n\u001b[0;32m      2\u001b[0m answer\u001b[39m=\u001b[39m \u001b[39m0\u001b[39m\n\u001b[0;32m      3\u001b[0m \u001b[39mfor\u001b[39;00m i \u001b[39min\u001b[39;00m \u001b[39mrange\u001b[39m(\u001b[39m1\u001b[39m,n\u001b[39m+\u001b[39m\u001b[39m1\u001b[39m):\n",
      "\u001b[1;31mValueError\u001b[0m: invalid literal for int() with base 10: ''"
     ]
    }
   ],
   "source": [
    "n = int(input())\n",
    "answer= 0\n",
    "for i in range(1,n+1):\n",
    "    answer += i\n",
    "print(i)"
   ]
  },
  {
   "cell_type": "code",
   "execution_count": 186,
   "metadata": {},
   "outputs": [
    {
     "name": "stdout",
     "output_type": "stream",
     "text": [
      "1 2 - 4 5 - 7 8 - 10 11 12 - 14 15 - 17 18 - 20 21 22 - 24 25 - 27 28 - - - - -- - - -- - - -- 40 "
     ]
    }
   ],
   "source": [
    "list_3 = [3,6,9]\n",
    "tmp = [0] * 40\n",
    "for i in range(1,40):\n",
    "    temp = [] \n",
    "    for j in str(i):\n",
    "        temp.append(j)\n",
    "    for k in temp:\n",
    "        if int(k) in list_3:\n",
    "            tmp[i-1] += 1\n",
    "a = 1\n",
    "for l in tmp:\n",
    "    if l == 0:\n",
    "        print(a, end=' ')\n",
    "        a+=1\n",
    "    else:\n",
    "        print('-'*l, end=' ')\n",
    "        a+=1\n",
    "\n"
   ]
  },
  {
   "cell_type": "code",
   "execution_count": 2,
   "metadata": {},
   "outputs": [],
   "source": [
    "score = {\n",
    "    'python': 80,\n",
    "    'django': 89,\n",
    "    'web': 83\n",
    "}"
   ]
  },
  {
   "cell_type": "code",
   "execution_count": 10,
   "metadata": {},
   "outputs": [
    {
     "data": {
      "text/plain": [
       "85.66666666666667"
      ]
     },
     "execution_count": 10,
     "metadata": {},
     "output_type": "execute_result"
    }
   ],
   "source": [
    "score['python'] = 85\n",
    "sum(score.values())/len(score)"
   ]
  },
  {
   "cell_type": "code",
   "execution_count": 14,
   "metadata": {},
   "outputs": [
    {
     "data": {
      "text/plain": [
       "3"
      ]
     },
     "execution_count": 14,
     "metadata": {},
     "output_type": "execute_result"
    }
   ],
   "source": [
    "t= \"10203\"\n",
    "p = '15'\n",
    "\n",
    "temp = []\n",
    "for i in range(len(t)-len(p)+1):\n",
    "    temp.append(t[i:i+len(p)])\n",
    "\n",
    "cnt = 0\n",
    "for num in temp:\n",
    "    if int(p) >= int(num):\n",
    "        cnt+=1\n",
    "cnt\n",
    "\n"
   ]
  },
  {
   "cell_type": "code",
   "execution_count": 28,
   "metadata": {},
   "outputs": [
    {
     "name": "stdout",
     "output_type": "stream",
     "text": [
      "0 1\n",
      "1 0\n",
      "1 2\n"
     ]
    }
   ],
   "source": [
    "N = int(input())\n",
    "\n",
    "def fibo(x):\n",
    "    if x==1 or x==2:\n",
    "        return 1\n",
    "    if d[x] == 0:\n",
    "        d[x] = fibo(x-1) + fibo(x-2)\n",
    "    return d[x]\n",
    "\n",
    "for i in range(N):\n",
    "    x= int(input())\n",
    "    if x >= 2:\n",
    "        d = [0] * (x+1)\n",
    "        print(fibo(x-1), end=' ')\n",
    "        print(fibo(x))\n",
    "    elif x== 1:\n",
    "        print(0, end=' ')\n",
    "        print(1)\n",
    "    else:\n",
    "        print(1, end=' ')\n",
    "        print(0)        "
   ]
  },
  {
   "cell_type": "code",
   "execution_count": 24,
   "metadata": {},
   "outputs": [
    {
     "name": "stdout",
     "output_type": "stream",
     "text": [
      "5\n"
     ]
    }
   ],
   "source": [
    "x = int(input())\n",
    "d = [0] * (x+1)\n",
    "\n",
    "def fibo(x):\n",
    "    if x==1 or x==2:\n",
    "        return 1\n",
    "    if d[x] ==0:\n",
    "        d[x] = fibo(x-1) + fibo(x-2)\n",
    "    return d[x]\n",
    "\n",
    "print(str(fibo(x)))"
   ]
  },
  {
   "cell_type": "code",
   "execution_count": null,
   "metadata": {},
   "outputs": [],
   "source": [
    "import json\n",
    "from pprint import pprint\n",
    "\n",
    "\n",
    "def movie_info(movie, genres):\n",
    "    info_lst = ['id','title','poster_path','vote_average','overview','genre_ids']\n",
    "    info_dict = {}\n",
    "\n",
    "    for i,b in movie.items():\n",
    "        if i in info_lst:\n",
    "            info_dict[i] = b\n",
    "\n",
    "    cnt = 0\n",
    "    for j in info_dict['genre_ids']:    \n",
    "        for i in genres_list:\n",
    "            if i['id'] == j:\n",
    "                info_dict['genre_ids'][cnt] = i['name']\n",
    "                cnt += 1\n",
    "    return info_dict\n",
    "    여기에 코드를 작성합니다.  \n",
    "        \n",
    "\n",
    "# 아래의 코드는 수정하지 않습니다.\n",
    "if __name__ == '__main__':\n",
    "    movie_json = open('data/movie.json', encoding='utf-8')\n",
    "    movie = json.load(movie_json)\n",
    "\n",
    "    genres_json = open('data/genres.json', encoding='utf-8')\n",
    "    genres_list = json.load(genres_json)\n",
    "\n",
    "    pprint(movie_info(movie, genres_list))\n"
   ]
  }
 ],
 "metadata": {
  "kernelspec": {
   "display_name": "Python 3",
   "language": "python",
   "name": "python3"
  },
  "language_info": {
   "codemirror_mode": {
    "name": "ipython",
    "version": 3
   },
   "file_extension": ".py",
   "mimetype": "text/x-python",
   "name": "python",
   "nbconvert_exporter": "python",
   "pygments_lexer": "ipython3",
   "version": "3.9.12"
  },
  "orig_nbformat": 4,
  "vscode": {
   "interpreter": {
    "hash": "c4b9ebf4ca459396e2ad1150752490c26670c1a037c08cad955a4425787bec2e"
   }
  }
 },
 "nbformat": 4,
 "nbformat_minor": 2
}
